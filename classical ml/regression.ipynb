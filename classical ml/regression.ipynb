{
 "cells": [
  {
   "cell_type": "markdown",
   "metadata": {},
   "source": [
    "# Types of regression\n",
    "1. Linear Regression\n",
    "2. Polynomial regression\n",
    "3. Support vector regression\n",
    "4. Decision tree regression \n",
    "5. Random Forest regression\n",
    "\n",
    "## Simple linear regression\n",
    "predict the outcome of a dependent variable based on the independent variables. The relationship between the variables is linear\n",
    "\n",
    "## Polynomial regression\n",
    "Transform the original features into polynomial features of a given degree and then perform regression on it.\n",
    "\n",
    "## Support vector machine regression\n",
    "we identify a hyperplane with maximum margin such that the maxium number of data points ae within those margins. It is quite similar to the support vector machine classification algorithm.\n",
    "\n",
    "## Decision tree regression\n",
    "A decision tree can be used for both regression and classification. In the case of regression we use the ID3 algorithm (Iterative Dichotomiser 3) to identify the splitting node by reducing the standard deviation.\n",
    "\n",
    "## Random forest regression \n",
    "In random forest regression we ensemble the predictions of several decision tree regressions.\n",
    "\n"
   ]
  }
 ],
 "metadata": {
  "language_info": {
   "name": "python"
  }
 },
 "nbformat": 4,
 "nbformat_minor": 2
}
