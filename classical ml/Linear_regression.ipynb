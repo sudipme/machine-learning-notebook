{
 "cells": [
  {
   "cell_type": "code",
   "execution_count": 2,
   "id": "a2f1d0f7-a5fa-4bcc-9e99-ed0727a7d4fa",
   "metadata": {},
   "outputs": [],
   "source": [
    "import numpy as np\n",
    "import matplotlib.pyplot as plt"
   ]
  },
  {
   "cell_type": "code",
   "execution_count": 3,
   "id": "2fd5292b-888a-47ce-8103-0ebcd5e9f67a",
   "metadata": {},
   "outputs": [
    {
     "data": {
      "text/plain": [
       "<matplotlib.collections.PathCollection at 0x109686ff0>"
      ]
     },
     "execution_count": 3,
     "metadata": {},
     "output_type": "execute_result"
    },
    {
     "data": {
      "image/png": "[encoded data removed]",
      "text/plain": [
       "<Figure size 640x480 with 1 Axes>"
      ]
     },
     "metadata": {},
     "output_type": "display_data"
    }
   ],
   "source": [
    "X = 2*np.random.rand(100,1)\n",
    "y = 4 + 3*X + np.random.randn(100,1)\n",
    "plt.scatter(X,y)"
   ]
  },
  {
   "cell_type": "markdown",
   "id": "882888d5-6ad1-4c65-ba1f-ac83bab3fb5b",
   "metadata": {},
   "source": [
    "## Gradient descent\n",
    "So far in this course, you have developed a linear model that predicts $f_{w,b}(x^{(i)})$:\n",
    "$$f_{w,b}(x^{(i)}) = wx^{(i)} + b \\tag{1}$$\n",
    "In linear regression, you utilize input training data to fit the parameters $w$,$b$ by minimizing a measure of the error between our predictions $f_{w,b}(x^{(i)})$ and the actual data $y^{(i)}$. The measure is called the $cost$, $J(w,b)$. In training you measure the cost over all of our training samples $x^{(i)},y^{(i)}$\n",
    "$$J(w,b) = \\frac{1}{2m} \\sum\\limits_{i = 0}^{m-1} (f_{w,b}(x^{(i)}) - y^{(i)})^2\\tag{2}$$ \n",
    "\n",
    "\n",
    "\n",
    "In lecture, *gradient descent* was described as:\n",
    "\n",
    "$$\\begin{align*} \\text{repeat}&\\text{ until convergence:} \\; \\lbrace \\newline\n",
    "\\;  w &= w -  \\alpha \\frac{\\partial J(w,b)}{\\partial w} \\tag{3}  \\; \\newline \n",
    " b &= b -  \\alpha \\frac{\\partial J(w,b)}{\\partial b}  \\newline \\rbrace\n",
    "\\end{align*}$$\n",
    "where, parameters $w$, $b$ are updated simultaneously.  \n",
    "The gradient is defined as:\n",
    "$$\n",
    "\\begin{align}\n",
    "\\frac{\\partial J(w,b)}{\\partial w}  &= \\frac{1}{m} \\sum\\limits_{i = 0}^{m-1} (f_{w,b}(x^{(i)}) - y^{(i)})x^{(i)} \\tag{4}\\\\\n",
    "  \\frac{\\partial J(w,b)}{\\partial b}  &= \\frac{1}{m} \\sum\\limits_{i = 0}^{m-1} (f_{w,b}(x^{(i)}) - y^{(i)}) \\tag{5}\\\\\n",
    "\\end{align}\n",
    "$$\n",
    "\n",
    "Here *simultaniously* means that you calculate the partial derivatives for all the parameters before updating any of the parameters."
   ]
  },
  {
   "cell_type": "markdown",
   "id": "b19f2be5-342e-4463-abec-e663e6df70b1",
   "metadata": {},
   "source": [
    "## Types of gradient Descent\n",
    "- Batch Gradient Descent\n",
    "- Stochastic Gradient Descent\n",
    "- Mini Batch Gradient Descent"
   ]
  },
  {
   "cell_type": "markdown",
   "id": "bcb6b3ff-577b-4693-98e0-e47b38927fa4",
   "metadata": {},
   "source": [
    "## Batch Gradient Descent"
   ]
  },
  {
   "cell_type": "markdown",
   "id": "c2ad8691-ecc5-4898-b9b5-1ebe781fb407",
   "metadata": {},
   "source": [
    "- Adding a bias term with the input features. The bellow code adds a column of '1' with all training row.\n",
    "- Initialize weights with zeros"
   ]
  },
  {
   "cell_type": "code",
   "execution_count": 17,
   "id": "c633690f-a894-4482-baed-e2e840036f1e",
   "metadata": {},
   "outputs": [],
   "source": [
    "X_b = np.c_[np.ones(X.shape[0]), X]\n",
    "weights = np.zeros(X_b.shape[1])"
   ]
  },
  {
   "cell_type": "code",
   "execution_count": 12,
   "id": "1f1e36c6-9b43-451d-9e6f-8fd075373a1e",
   "metadata": {},
   "outputs": [
    {
     "data": {
      "text/plain": [
       "(2,)"
      ]
     },
     "execution_count": 12,
     "metadata": {},
     "output_type": "execute_result"
    }
   ],
   "source": [
    "weights.shape"
   ]
  },
  {
   "cell_type": "code",
   "execution_count": 13,
   "id": "1f49b7d5-b2b3-4f55-a32b-9a20f0bacdd2",
   "metadata": {},
   "outputs": [],
   "source": [
    "def predict(X, weights):\n",
    "    return np.dot(X, weights)\n",
    "\n",
    "    \n",
    "def gradient_descent(X, y, weights, learning_rate, iterations):\n",
    "    # Number of training examples\n",
    "    m = X.shape[0]\n",
    "    y = y.reshape(X.shape[0]) # as shape of y is (100,1) but we need shape (100,)\n",
    "    \n",
    "    for i in range(iterations):\n",
    "        predictions = predict(X, weights)\n",
    "        errors = (predictions - y)\n",
    "        gradient = (1/m) * np.dot(X.T, errors)\n",
    "        weights -= (learning_rate * gradient)\n",
    "        \n",
    "    return weights\n",
    "        \n",
    "        "
   ]
  },
  {
   "cell_type": "code",
   "execution_count": 18,
   "id": "2c0c25fa-2d6c-47f2-879c-a59732c2a29c",
   "metadata": {},
   "outputs": [
    {
     "name": "stdout",
     "output_type": "stream",
     "text": [
      "[4.0904784  3.05806089]\n"
     ]
    }
   ],
   "source": [
    "w = gradient_descent(X_b,y,weights,0.01,10000)\n",
    "print(w)"
   ]
  },
  {
   "cell_type": "markdown",
   "id": "6ea457e1-1543-42f1-b7e3-0e616632891d",
   "metadata": {},
   "source": [
    "# Stochastic Gradient Descent"
   ]
  },
  {
   "cell_type": "code",
   "execution_count": 26,
   "id": "5b5d885d-81b9-4221-855f-fa33390a8cdd",
   "metadata": {},
   "outputs": [
    {
     "name": "stdout",
     "output_type": "stream",
     "text": [
      "[[4.06467558]\n",
      " [3.08605447]]\n"
     ]
    }
   ],
   "source": [
    "n_epochs = 50\n",
    "t0, t1 = 5, 50\n",
    "m = X.shape[0]\n",
    "def learning_schedule(t):\n",
    "    return t0/(t + t1)\n",
    "    \n",
    "weights = np.random.randn(2,1)\n",
    "\n",
    "for epoch in range(n_epochs):\n",
    "    for i in range(m):\n",
    "        random_index = np.random.randint(m)\n",
    "        xi = X_b[random_index:random_index + 1]\n",
    "        yi = y[random_index:random_index + 1]\n",
    "        gradients = xi.T.dot(xi.dot(weights)-yi)\n",
    "        learning_rate = learning_schedule(epoch*m + i)\n",
    "        weights -= learning_rate*gradients\n",
    "\n",
    "print(weights)"
   ]
  },
  {
   "cell_type": "code",
   "execution_count": null,
   "id": "d8d57f38-bb4c-41e5-bb9c-69abdaa06aed",
   "metadata": {},
   "outputs": [],
   "source": []
  }
 ],
 "metadata": {
  "kernelspec": {
   "display_name": "Python3.11 kernel",
   "language": "python",
   "name": "myjupyterkernel"
  },
  "language_info": {
   "codemirror_mode": {
    "name": "ipython",
    "version": 3
   },
   "file_extension": ".py",
   "mimetype": "text/x-python",
   "name": "python",
   "nbconvert_exporter": "python",
   "pygments_lexer": "ipython3",
   "version": "3.11.7"
  }
 },
 "nbformat": 4,
 "nbformat_minor": 5
}
