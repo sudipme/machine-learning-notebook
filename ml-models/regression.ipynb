{
 "cells": [
  {
   "cell_type": "markdown",
   "metadata": {},
   "source": [
    "# Regression\n",
    "In machine learning, a model is typically considered a regression model when its primary task is to predict a continuous outcome variable.\n",
    "\n",
    "**Types of regression**\n",
    "1. Linear Regression\n",
    "2. Polynomial regression\n",
    "3. Support vector regression\n",
    "4. Decision tree regression \n",
    "5. Random Forest regression\n",
    "\n",
    "## Simple linear regression\n",
    "predict the outcome of a dependent variable based on the independent variables. The relationship between the variables is linear\n",
    "\n",
    "## Polynomial regression\n",
    "Transform the original features into polynomial features of a given degree and then perform regression on it.\n",
    "\n",
    "## Support vector machine regression\n",
    "we identify a hyperplane with maximum margin such that the maxium number of data points ae within those margins. It is quite similar to the support vector machine classification algorithm.\n",
    "\n",
    "## Decision tree regression\n",
    "A decision tree can be used for both regression and classification. In the case of regression we use the ID3 algorithm (Iterative Dichotomiser 3) to identify the splitting node by reducing the standard deviation.\n",
    "\n",
    "## Random forest regression \n",
    "In random forest regression we ensemble the predictions of several decision tree regressions.\n",
    "\n"
   ]
  },
  {
   "cell_type": "markdown",
   "metadata": {},
   "source": []
  }
 ],
 "metadata": {
  "kernelspec": {
   "display_name": "Python 3 (ipykernel)",
   "language": "python",
   "name": "python3"
  },
  "language_info": {
   "codemirror_mode": {
    "name": "ipython",
    "version": 3
   },
   "file_extension": ".py",
   "mimetype": "text/x-python",
   "name": "python",
   "nbconvert_exporter": "python",
   "pygments_lexer": "ipython3",
   "version": "3.12.3"
  }
 },
 "nbformat": 4,
 "nbformat_minor": 4
}
